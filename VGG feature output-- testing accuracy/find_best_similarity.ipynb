{
 "cells": [
  {
   "cell_type": "code",
   "execution_count": 1,
   "metadata": {},
   "outputs": [
    {
     "name": "stdout",
     "output_type": "stream",
     "text": [
      "start reading file\n",
      "reading completed\n",
      "(12000, 4096)\n"
     ]
    }
   ],
   "source": [
    "import numpy as np\n",
    "\n",
    "# read file \n",
    "print \"start reading file\"\n",
    "result=np.loadtxt('vggfeature.txt')\n",
    "print \"reading completed\"\n",
    "\n",
    "print result.shape"
   ]
  },
  {
   "cell_type": "code",
   "execution_count": 2,
   "metadata": {
    "collapsed": true
   },
   "outputs": [],
   "source": [
    "def calcDist(arr1,arr2):\n",
    "    distSquare=0\n",
    "    for i in range(arr1.shape[1]):\n",
    "        distSquare = distSquare + np.square((arr2[i]-arr1[i]))\n",
    "    return np.sqrt(distSquare)"
   ]
  },
  {
   "cell_type": "markdown",
   "metadata": {},
   "source": [
    "# produce distance list\n",
    "### first 3000 positive pairs, last 3000 positive negative pairs"
   ]
  },
  {
   "cell_type": "code",
   "execution_count": null,
   "metadata": {
    "collapsed": true
   },
   "outputs": [],
   "source": [
    "# distList = []\n",
    "\n",
    "# for i in range((result.shape[1])/2):\n",
    "#     col_1=2*i\n",
    "#     col_2=2*i+1\n",
    "#     #print result[:,col_1], result[:,col_2]\n",
    "#     dist = calcDist(result[:,col_1],result[:,col_2])\n",
    "#     distList.append(dist)\n",
    "    \n",
    "# print distList\n",
    "\n",
    "\n",
    "# print result\n",
    "# print result[:,0]\n",
    "# print result[0,:]\n",
    "#print result[result.shape[0]]"
   ]
  },
  {
   "cell_type": "code",
   "execution_count": null,
   "metadata": {
    "collapsed": true
   },
   "outputs": [],
   "source": []
  }
 ],
 "metadata": {
  "kernelspec": {
   "display_name": "Python 2",
   "language": "python",
   "name": "python2"
  },
  "language_info": {
   "codemirror_mode": {
    "name": "ipython",
    "version": 2
   },
   "file_extension": ".py",
   "mimetype": "text/x-python",
   "name": "python",
   "nbconvert_exporter": "python",
   "pygments_lexer": "ipython2",
   "version": "2.7.13"
  }
 },
 "nbformat": 4,
 "nbformat_minor": 2
}
